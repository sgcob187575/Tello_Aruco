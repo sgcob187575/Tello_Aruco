{
 "cells": [
  {
   "cell_type": "code",
   "execution_count": 4,
   "id": "cff4998d",
   "metadata": {},
   "outputs": [
    {
     "name": "stdout",
     "output_type": "stream",
     "text": [
      "[[1.18162341e+03 0.00000000e+00 4.79134393e+02]\n",
      " [0.00000000e+00 6.86457797e+02 8.79928518e+02]\n",
      " [0.00000000e+00 0.00000000e+00 1.00000000e+00]]\n"
     ]
    }
   ],
   "source": [
    "from mpl_toolkits.mplot3d import Axes3D\n",
    "import matplotlib.pyplot as plt\n",
    "import numpy as np\n",
    "from matplotlib import cm\n",
    "from numpy import linspace\n",
    "import argparse\n",
    "import cv2 as cv\n",
    "import glob\n",
    "from PIL import Image\n",
    "\n",
    "Hs = np.load(\"run/numpy/Hs.npy\")\n",
    "\n",
    "def getK(Hs):\n",
    "    V = np.zeros((2*len(Hs),6))\n",
    "    for idx, H in enumerate(Hs):\n",
    "        h1, h2 = H[:,0], H[:,1]\n",
    "\n",
    "        # h1^T*B*h2 = 0\n",
    "        v1 = [h1[0]*h2[0],                  # h10h20\n",
    "            h1[1]*h2[0]+h1[0]*h2[1],        # h11h20+h10h21\n",
    "            h1[2]*h2[0]+h1[0]*h2[2],        # h12h20+h10h22\n",
    "            h1[1]*h2[1],                    # h11h21\n",
    "            h1[2]*h2[1]+h1[1]*h2[2],        # h12h21+h11h22\n",
    "            h1[2]*h2[2]                     # h12h22\n",
    "        ]\n",
    "        # h1^T*B*h1 = h2^T*B*h2\n",
    "        v2 = [h1[0]**2-h2[0]**2,            # h10^2 - h20^2\n",
    "            2*(h1[0]*h1[1]-h2[0]*h2[1]),    # 2(h10h11-h20h21)\n",
    "            2*(h1[0]*h1[2]-h2[0]*h2[2]),    # 2(h10h12-h20h22)\n",
    "            h1[1]**2-h2[1]**2,              # h11^2-h21^2\n",
    "            2*(h1[1]*h1[2]-h2[1]*h2[2]),    # 2(h11h12-h21h22)\n",
    "            h1[2]**2-h2[2]**2]              # h12^2-h22^2\n",
    "\n",
    "        # put v1 and v2 into V\n",
    "        V[2*idx] = np.array(v1)\n",
    "        V[2*idx+1] = np.array(v2)\n",
    "\n",
    "    # solve b = argmin(Vb)\n",
    "    U, D, VT = np.linalg.svd(V)\n",
    "    b11, b12, b13, b22, b23, b33 = VT[-1]\n",
    "\n",
    "    # reconstruct B from b\n",
    "    B = np.array([[b11,b12,b13],[b12,b22,b23],[b13,b23,b33]])\n",
    "\n",
    "    # make it positive definite (if it isn't yet)\n",
    "    if(B[0][0] < 0):\n",
    "        B = -B\n",
    "\n",
    "    # B = L*L^T\n",
    "    L = np.linalg.cholesky(B)\n",
    "\n",
    "    # L = K^-1^T\n",
    "    K = np.linalg.inv(np.transpose(L))\n",
    "\n",
    "    # normalize\n",
    "    K /= K[2][2]\n",
    "\n",
    "    K[0][1] = 0\n",
    "\n",
    "    print(K)\n",
    "    return K\n",
    "K=getK(Hs)\n",
    "np.save('drone_calib_mtx.npy',K)"
   ]
  }
 ],
 "metadata": {
  "kernelspec": {
   "display_name": "Python 3 (ipykernel)",
   "language": "python",
   "name": "python3"
  },
  "language_info": {
   "codemirror_mode": {
    "name": "ipython",
    "version": 3
   },
   "file_extension": ".py",
   "mimetype": "text/x-python",
   "name": "python",
   "nbconvert_exporter": "python",
   "pygments_lexer": "ipython3",
   "version": "3.8.13"
  }
 },
 "nbformat": 4,
 "nbformat_minor": 5
}
